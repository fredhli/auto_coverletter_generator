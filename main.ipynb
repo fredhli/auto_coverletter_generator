{
 "cells": [
  {
   "cell_type": "markdown",
   "metadata": {},
   "source": [
    "# Job-Spefecific Info Here\n",
    "Change this section every time  \n",
    "Close PDF Reader APP to avoid error messages"
   ]
  },
  {
   "cell_type": "markdown",
   "metadata": {},
   "source": [
    "## Original Job Description"
   ]
  },
  {
   "cell_type": "code",
   "execution_count": null,
   "metadata": {},
   "outputs": [],
   "source": [
    "jd = \"\"\"\n",
    "\n",
    "\"\"\"\n",
    "# Paste job description above"
   ]
  },
  {
   "cell_type": "markdown",
   "metadata": {},
   "source": [
    "## Company info  \n",
    "You can leave the address blank, Google Map API will help you find the address."
   ]
  },
  {
   "cell_type": "code",
   "execution_count": null,
   "metadata": {},
   "outputs": [],
   "source": [
    "company_name = \"\"                   # Company name\n",
    "company_address_line_1 = \"\"         # Street address\n",
    "company_address_line_2 = \"\"         # Suite or unit number\n",
    "company_city = \"Toronto\"            # City\n",
    "company_state_two_letter = \"ON\"     # State two letter abbreviation\n",
    "company_country = \"Canada\"          # USA or Canada"
   ]
  },
  {
   "cell_type": "markdown",
   "metadata": {},
   "source": [
    "## Personal-specific Info\n",
    "Do you have anything else to stress in your cover letter?"
   ]
  },
  {
   "cell_type": "code",
   "execution_count": 111,
   "metadata": {},
   "outputs": [],
   "source": [
    "additional_strength_to_mention = \"\"\"\n",
    "- I have a Master's degree in Quantitative Finance and have worked on forecasting related projects.\n",
    "- I have experience in supervised, unsupervised, and ensemble machine learning techniques, feature engineering, classification, clustering, segmentation, NLP, time series analysis, demand forecasting, etc.\n",
    "- I have strong scripting and programming skills in Python and experience in forecasting related projects.\n",
    "- I have working knowledge of relational databases (SQL, PostgreSQL etc.) and MS Azure (ML Studio or similar).\n",
    "- Eligible to work in Canada without a sponsorship.\n",
    "\"\"\""
   ]
  },
  {
   "cell_type": "markdown",
   "metadata": {},
   "source": [
    "Which version of CV do you want to use?"
   ]
  },
  {
   "cell_type": "code",
   "execution_count": 112,
   "metadata": {},
   "outputs": [],
   "source": [
    "cv_type = \"undecided\"\n",
    "\n",
    "cv_type = \"trader_quant_data\"\n",
    "# cv_type = \"research\"\n",
    "# cv_type = \"equity_research\"\n",
    "# cv_type = \"pan_finance\"\n",
    "# cv_type = \"ibd\"\n",
    "# cv_type = \"operation\"\n",
    "# cv_type = \"risk\""
   ]
  },
  {
   "cell_type": "markdown",
   "metadata": {},
   "source": [
    "# The Automation"
   ]
  },
  {
   "cell_type": "code",
   "execution_count": null,
   "metadata": {},
   "outputs": [],
   "source": [
    "import os\n",
    "import re\n",
    "import shutil\n",
    "import pyperclip\n",
    "import pandas as pd\n",
    "\n",
    "from config import *\n",
    "from cv_info import *\n",
    "from gpt_functions import *\n",
    "from gmap_functions import *\n",
    "from notion_functions import *\n",
    "\n",
    "from datetime import datetime"
   ]
  },
  {
   "cell_type": "code",
   "execution_count": null,
   "metadata": {},
   "outputs": [
    {
     "name": "stdout",
     "output_type": "stream",
     "text": [
      "CV type is determined as trader_quant_data\n"
     ]
    }
   ],
   "source": [
    "# Let AI help me choose the CV type\n",
    "gpt_determination, gpt_reason = help_me_choose_cv(jd, cv_i_chose=cv_type)\n",
    "\n",
    "if cv_type == \"undecided\":\n",
    "    user_input = input(\n",
    "        f\"\"\"CV type is determined as {gpt_determination}, the reason is: {gpt_reason} Press \"Y\" to accept, or type in the CV type of your choice: \"\"\")\n",
    "\n",
    "    if user_input == \"Y\":\n",
    "        cv_type = gpt_determination\n",
    "\n",
    "    elif user_input == \"N\":\n",
    "        assert False, \"Please type in the CV type of your choice\"\n",
    "\n",
    "    else:\n",
    "        cv_type = user_input.replace('\"', '').replace(\"'\", \"\").replace(\" \", \"_\")\n",
    "\n",
    "    \n",
    "elif cv_type != gpt_determination:\n",
    "    # let me decide\n",
    "    user_input = input(\n",
    "        f\"\"\"CV type is determined as {gpt_determination}, the reason is: {gpt_reason} Press \"Y\" to accept, \"N\" to insist on {cv_type}, or type in the CV type of your choice: \"\"\")\n",
    "\n",
    "    if user_input == \"Y\":\n",
    "\n",
    "        cv_type = gpt_determination\n",
    "\n",
    "    elif user_input != \"N\":\n",
    "        cv_type = user_input.replace('\"', '').replace(\"'\", \"\").replace(\" \", \"_\")\n",
    "\n",
    "print(f\"CV type is determined as {cv_type}\")"
   ]
  },
  {
   "cell_type": "markdown",
   "metadata": {},
   "source": [
    "CV Location and Version, change it in `cv_info.py`"
   ]
  },
  {
   "cell_type": "code",
   "execution_count": null,
   "metadata": {},
   "outputs": [],
   "source": [
    "cv_to_use = get_cv(cv_type)\n",
    "cv_location = cv_location(cv_folder, cv_type)"
   ]
  },
  {
   "cell_type": "markdown",
   "metadata": {},
   "source": [
    "Chromedriver Location"
   ]
  },
  {
   "cell_type": "code",
   "execution_count": null,
   "metadata": {},
   "outputs": [],
   "source": [
    "path_to_chromedriver, service, options = ready_for_chromedriver(binary_location, path_to_chromedriver)"
   ]
  },
  {
   "cell_type": "code",
   "execution_count": 122,
   "metadata": {},
   "outputs": [],
   "source": [
    "jd = jd.replace('–', '-').replace(\"'\", \"'\")"
   ]
  },
  {
   "cell_type": "markdown",
   "metadata": {},
   "source": [
    "# Get Company Location Straight"
   ]
  },
  {
   "cell_type": "code",
   "execution_count": 123,
   "metadata": {},
   "outputs": [],
   "source": [
    "prompt_companyinfo = query_companyinfo(jd)"
   ]
  },
  {
   "cell_type": "code",
   "execution_count": 124,
   "metadata": {},
   "outputs": [],
   "source": [
    "info = chatgpt(\"gpt-4o-mini\", prompt_companyinfo)"
   ]
  },
  {
   "cell_type": "code",
   "execution_count": 125,
   "metadata": {},
   "outputs": [],
   "source": [
    "(\n",
    "    valid_info,\n",
    "    company_name,\n",
    "    company_address_line_1,\n",
    "    company_address_line_2,\n",
    "    company_city,\n",
    "    company_state_two_letter,\n",
    "    company_country\n",
    ") = company_info(\n",
    "    info,\n",
    "    company_name,\n",
    "    company_address_line_1,\n",
    "    company_address_line_2,\n",
    "    company_city,\n",
    "    company_state_two_letter,\n",
    "    company_country\n",
    ")"
   ]
  },
  {
   "cell_type": "code",
   "execution_count": 126,
   "metadata": {},
   "outputs": [
    {
     "name": "stdout",
     "output_type": "stream",
     "text": [
      "Company Name: Amica Senior Lifestyles\n",
      "Company Address Line 1: Amica Senior Lifestyles Support Office\n",
      "Company Address Line 2: 16432\n",
      "City: Toronto\n",
      "State: ON\n",
      "Country: Canada\n"
     ]
    }
   ],
   "source": [
    "print(f\"Company Name: {company_name}\")\n",
    "print(f\"Company Address Line 1: {company_address_line_1}\")\n",
    "print(f\"Company Address Line 2: {company_address_line_2}\")\n",
    "print(f\"City: {company_city}\")\n",
    "print(f\"State: {company_state_two_letter}\")\n",
    "print(f\"Country: {company_country}\")"
   ]
  },
  {
   "cell_type": "markdown",
   "metadata": {},
   "source": [
    "Check Area if any mistake"
   ]
  },
  {
   "cell_type": "code",
   "execution_count": 127,
   "metadata": {},
   "outputs": [],
   "source": [
    "# info"
   ]
  },
  {
   "cell_type": "code",
   "execution_count": 128,
   "metadata": {},
   "outputs": [],
   "source": [
    "# info_test = info.replace(r\"\\n\\n\", r\"\\n\")\n",
    "# pattern = r\"\\*\\*Company Name:\\*\\*\\s*(.*?)\\s*\\n\\*\\*Company Address Line 1:\\*\\*\\s*(.*?)\\s*\\n\\*\\*Company Address Line 2:\\*\\*\\s*(.*?)\\s*\\n\\*\\*City:\\*\\*\\s*(.*?)\\s*\\n\\*\\*State:\\*\\*\\s*([A-Za-z]{2,})\\s*\"\n",
    "# results = re.match(pattern, info_test, re.DOTALL)\n",
    "# results.groups()"
   ]
  },
  {
   "cell_type": "code",
   "execution_count": 129,
   "metadata": {},
   "outputs": [],
   "source": [
    "can_continue, info_type = judge_info_type(\n",
    "    company_name,\n",
    "    company_address_line_1,\n",
    "    company_address_line_2,\n",
    "    company_city\n",
    ")"
   ]
  },
  {
   "cell_type": "markdown",
   "metadata": {},
   "source": [
    "# Google Map"
   ]
  },
  {
   "cell_type": "code",
   "execution_count": 130,
   "metadata": {},
   "outputs": [],
   "source": [
    "company_address_line_3 = \"\"\n",
    "\n",
    "if info_type == \"no_address\":\n",
    "    print(\"No address found, launching Google Maps search.\")\n",
    "    try:\n",
    "        company_address_line_1, company_address_line_2, company_address_line_3 = nearby_search_address(\n",
    "            company_city, company_name, company_country)\n",
    "    except AssertionError:\n",
    "        beep(system_used)\n",
    "        company_address_line_1 = input(\"No address found, please enter manually. Line 1: \")\n",
    "        beep(system_used)\n",
    "        company_address_line_2 = input(\"Please enter the address line 2: \")\n",
    "        if any(x == \"\" for x in [company_city, company_state_two_letter, company_country]):\n",
    "            beep(system_used)\n",
    "            company_address_line_3 = input(\"Please enter City, State Abbr, Country as line 3:\")\n",
    "        else:\n",
    "            company_address_line_3 = f\"{company_city}, {company_state_two_letter}, {company_country}\"\n",
    "\n",
    "if company_address_line_3 == \"\":\n",
    "    company_address_line_3 = f\"{company_city}, {company_state_two_letter}, {company_country}\""
   ]
  },
  {
   "cell_type": "markdown",
   "metadata": {},
   "source": [
    "# Prompt"
   ]
  },
  {
   "cell_type": "markdown",
   "metadata": {},
   "source": [
    "## Step 1: Check if we need to combine pdf"
   ]
  },
  {
   "cell_type": "code",
   "execution_count": 131,
   "metadata": {},
   "outputs": [],
   "source": [
    "query_sthimportant = query_something_important(jd)"
   ]
  },
  {
   "cell_type": "code",
   "execution_count": 132,
   "metadata": {},
   "outputs": [
    {
     "name": "stdout",
     "output_type": "stream",
     "text": [
      "False\n"
     ]
    }
   ],
   "source": [
    "answer = chatgpt(\"gpt-4o-mini\", query_sthimportant)\n",
    "\n",
    "showed_popup_1 = judge_something_important(answer, package_folder, system_used)\n",
    "print(showed_popup_1)"
   ]
  },
  {
   "cell_type": "markdown",
   "metadata": {},
   "source": [
    "## Step 2: Anything Super Urgent that will turn me down"
   ]
  },
  {
   "cell_type": "code",
   "execution_count": 133,
   "metadata": {},
   "outputs": [],
   "source": [
    "query_anything_turn_me_down = query_anything_turn_me_down(jd)"
   ]
  },
  {
   "cell_type": "code",
   "execution_count": 134,
   "metadata": {},
   "outputs": [
    {
     "name": "stdout",
     "output_type": "stream",
     "text": [
      "False\n"
     ]
    }
   ],
   "source": [
    "answer = chatgpt(\"gpt-4o-mini\", query_sthimportant)\n",
    "\n",
    "showed_popup_2 = judge_something_important(answer, package_folder, system_used, turnmedown=True)\n",
    "print(showed_popup_2)"
   ]
  },
  {
   "cell_type": "markdown",
   "metadata": {},
   "source": [
    "## Step 3: Draft Cover Letter"
   ]
  },
  {
   "cell_type": "code",
   "execution_count": 135,
   "metadata": {},
   "outputs": [
    {
     "name": "stdout",
     "output_type": "stream",
     "text": [
      "Amica Senior Lifestyles\n"
     ]
    }
   ],
   "source": [
    "print(company_name)"
   ]
  },
  {
   "cell_type": "code",
   "execution_count": 136,
   "metadata": {},
   "outputs": [],
   "source": [
    "if company_name == \"\" or company_name == \"None\":\n",
    "    assert False, \"Company name is empty.\"\n",
    "\n",
    "prompt_cl = query_cover_letter(cv_to_use, jd, company_name, additional_strength_to_mention)"
   ]
  },
  {
   "cell_type": "code",
   "execution_count": null,
   "metadata": {},
   "outputs": [],
   "source": [
    "answer = chatgpt(\"chatgpt-4o-latest\", prompt_cl)\n",
    "match = re.search(r\"Dear hiring manager,\\s*(.*)\\s*Sincerely,\", answer, re.DOTALL | re.IGNORECASE)\n",
    "\n",
    "if match:\n",
    "    extracted_text = match.group(1).strip()\n",
    "    pyperclip.copy(extracted_text)\n",
    "    print(\"The content has been copied to the clipboard.\")\n",
    "    print(\"\")\n",
    "    print(extracted_text)\n",
    "else:\n",
    "    print(\"The specified text was not found. Original answer:\")\n",
    "    print(answer)"
   ]
  },
  {
   "cell_type": "code",
   "execution_count": 138,
   "metadata": {},
   "outputs": [
    {
     "name": "stdout",
     "output_type": "stream",
     "text": [
      "No need to shrink the text. The original text is already less than 300 words: 266 words.\n"
     ]
    }
   ],
   "source": [
    "extracted_text = shrink_text(extracted_text, threshold=300)"
   ]
  },
  {
   "cell_type": "code",
   "execution_count": 139,
   "metadata": {},
   "outputs": [
    {
     "data": {
      "text/plain": [
       "266"
      ]
     },
     "execution_count": 139,
     "metadata": {},
     "output_type": "execute_result"
    }
   ],
   "source": [
    "word_count = len(extracted_text.split())\n",
    "word_count"
   ]
  },
  {
   "cell_type": "markdown",
   "metadata": {},
   "source": [
    "## Step 4: Get my best Title for this Job"
   ]
  },
  {
   "cell_type": "code",
   "execution_count": 140,
   "metadata": {},
   "outputs": [],
   "source": [
    "prompt_job_title = query_job_title(jd, cv_to_use, extracted_text)"
   ]
  },
  {
   "cell_type": "code",
   "execution_count": 141,
   "metadata": {},
   "outputs": [
    {
     "name": "stdout",
     "output_type": "stream",
     "text": [
      "**Data Scientist & Portfolio Manager**\n"
     ]
    }
   ],
   "source": [
    "job_title = chatgpt(\"chatgpt-4o-latest\", prompt_job_title)\n",
    "\n",
    "if \"*\" not in job_title:\n",
    "    job_title = (\"**\" + job_title + \"**\")\n",
    "print(job_title)"
   ]
  },
  {
   "cell_type": "markdown",
   "metadata": {},
   "source": [
    "# Notion"
   ]
  },
  {
   "cell_type": "code",
   "execution_count": 142,
   "metadata": {},
   "outputs": [
    {
     "name": "stdout",
     "output_type": "stream",
     "text": [
      "Found block with text: TBA Title\n",
      "Block 10ab1542-9002-80d4-abe7-ffca8866414d updated.\n",
      "True\n"
     ]
    }
   ],
   "source": [
    "replace_job_title_success, block_id = replace_simple(\"TBA Title\", job_title, page_id)\n",
    "print(replace_job_title_success)"
   ]
  },
  {
   "cell_type": "code",
   "execution_count": 143,
   "metadata": {},
   "outputs": [
    {
     "name": "stdout",
     "output_type": "stream",
     "text": [
      "Found block with text: TBA Date\n",
      "Block b87e1d4a-c6af-4e91-bf93-e928c0c44dbe updated.\n",
      "True\n"
     ]
    }
   ],
   "source": [
    "today = datetime.today().strftime(\"%B %d, %Y\")\n",
    "replace_date_success, block_id = replace_simple(\"TBA Date\", today, page_id)\n",
    "print(replace_date_success)"
   ]
  },
  {
   "cell_type": "code",
   "execution_count": 144,
   "metadata": {},
   "outputs": [],
   "source": [
    "if info_type == \"single_line\":\n",
    "    parsed_address = f\"Hiring Manager\\n{company_address_line_1}\\n{company_name}\\n{company_address_line_3}\"\n",
    "elif info_type == \"no_address\":\n",
    "    parsed_address = f\"Hiring Manager\\n{company_address_line_1}\\n{company_address_line_2}\\n{company_address_line_3}\"\n",
    "elif info_type == \"full_address\":\n",
    "    parsed_address = f\"Hiring Manager\\n{company_address_line_1}\\n{company_address_line_2}\\n{company_city}, {company_state_two_letter}, {company_country}\"\n",
    "else:\n",
    "    assert False, \"Invalid info_type\""
   ]
  },
  {
   "cell_type": "code",
   "execution_count": 145,
   "metadata": {},
   "outputs": [
    {
     "name": "stdout",
     "output_type": "stream",
     "text": [
      "Found block with text: TBA Address\n",
      "Block 10bb1542-9002-8099-a9a2-eb53beff1332 updated with color 'default'.\n"
     ]
    }
   ],
   "source": [
    "replace_address_success, block_id_address = replace_simple(\"TBA Address\", parsed_address, page_id, change_color=True, color_to=\"default\")"
   ]
  },
  {
   "cell_type": "code",
   "execution_count": 146,
   "metadata": {},
   "outputs": [
    {
     "name": "stdout",
     "output_type": "stream",
     "text": [
      "Found block with text: TBA Main Text\n",
      "Block 9b0acf97-d6e5-4d2d-bd28-12fab599edf9 updated.\n"
     ]
    }
   ],
   "source": [
    "replace_main_text_success, block_id_main = replace_simple(\"TBA Main Text\", extracted_text.strip(), page_id)"
   ]
  },
  {
   "cell_type": "code",
   "execution_count": 147,
   "metadata": {},
   "outputs": [
    {
     "name": "stdout",
     "output_type": "stream",
     "text": [
      "No TBA found, page is successful.\n",
      "Page is successful, proceeding to download PDF.\n",
      "PDF saved to D:/Dropbox/Documents/JHt/Cover Letter/Cover Letter - Fred Li.pdf\n"
     ]
    }
   ],
   "source": [
    "download_success = selenium_download_pdf(service, options, download_folder, website)"
   ]
  },
  {
   "cell_type": "markdown",
   "metadata": {},
   "source": [
    "# Parse PDF"
   ]
  },
  {
   "cell_type": "code",
   "execution_count": 148,
   "metadata": {},
   "outputs": [
    {
     "name": "stdout",
     "output_type": "stream",
     "text": [
      "Page 2 is blank. Removing...\n",
      "Saved PDF with 1 non-blank pages.\n"
     ]
    }
   ],
   "source": [
    "input_pdf_path = f\"{download_folder}/Cover Letter - {my_name}.pdf\"\n",
    "remove_blank_pages_from_pdf(input_pdf_path)"
   ]
  },
  {
   "cell_type": "markdown",
   "metadata": {},
   "source": [
    "# Copy CV, CL to Package Folder"
   ]
  },
  {
   "cell_type": "code",
   "execution_count": 149,
   "metadata": {},
   "outputs": [
    {
     "data": {
      "text/plain": [
       "'D:/Dropbox/Documents/JHt/Cover Letter Backup/October 29, 2024_Amica Senior Lifestyles_Toronto.pdf'"
      ]
     },
     "execution_count": 149,
     "metadata": {},
     "output_type": "execute_result"
    }
   ],
   "source": [
    "shutil.copy(cv_location, f\"{package_folder}/CV - {my_name}.pdf\")\n",
    "shutil.copy(f\"{download_folder}/Cover Letter - {my_name}.pdf\", f\"{package_folder}/Cover Letter - {my_name}.pdf\")\n",
    "\n",
    "cl_backup_folder = f\"{root}/Cover Letter Backup\"\n",
    "shutil.copy(f\"{package_folder}/Cover Letter - {my_name}.pdf\", f\"{cl_backup_folder}/{today}_{company_name}_{company_city}.pdf\")"
   ]
  },
  {
   "cell_type": "code",
   "execution_count": 150,
   "metadata": {},
   "outputs": [
    {
     "data": {
      "text/plain": [
       "'https://fredhl.notion.site/Fred-H-Li-10ab1542900280868912f6100d361ba2'"
      ]
     },
     "execution_count": 150,
     "metadata": {},
     "output_type": "execute_result"
    }
   ],
   "source": [
    "website"
   ]
  },
  {
   "cell_type": "code",
   "execution_count": 151,
   "metadata": {},
   "outputs": [
    {
     "data": {
      "text/plain": [
       "True"
      ]
     },
     "execution_count": 151,
     "metadata": {},
     "output_type": "execute_result"
    }
   ],
   "source": [
    "# combine all three PDFs in package folder\n",
    "\n",
    "if showed_popup_1 or showed_popup_2:\n",
    "    beep(system_used)\n",
    "    sequence = input(\"Since GPT identified some modifications specefic to this JD, please enter the sequence of the PDFs to be combined, 1: CV; 2: CL; 3: Unofficial Transcript. e.g.: 123; 12; 13; 1, etc.\")\n",
    "else:\n",
    "    sequence = \"12\"\n",
    "\n",
    "merge_pdf(sequence, package_folder, my_name)"
   ]
  },
  {
   "cell_type": "markdown",
   "metadata": {},
   "source": [
    "# Recover to Template for next use"
   ]
  },
  {
   "cell_type": "code",
   "execution_count": 152,
   "metadata": {},
   "outputs": [
    {
     "name": "stdout",
     "output_type": "stream",
     "text": [
      "Found block with text: Data Scientist & Portfolio Manager\n",
      "Block 10ab1542-9002-80d4-abe7-ffca8866414d updated.\n"
     ]
    },
    {
     "data": {
      "text/plain": [
       "(True, '10ab1542-9002-80d4-abe7-ffca8866414d')"
      ]
     },
     "execution_count": 152,
     "metadata": {},
     "output_type": "execute_result"
    }
   ],
   "source": [
    "replace_simple(job_title.replace(\"*\", \"\"), \"TBA Title\", page_id)"
   ]
  },
  {
   "cell_type": "code",
   "execution_count": 153,
   "metadata": {},
   "outputs": [
    {
     "name": "stdout",
     "output_type": "stream",
     "text": [
      "Found block with text: October 29, 2024\n",
      "Block b87e1d4a-c6af-4e91-bf93-e928c0c44dbe updated.\n"
     ]
    },
    {
     "data": {
      "text/plain": [
       "(True, 'b87e1d4a-c6af-4e91-bf93-e928c0c44dbe')"
      ]
     },
     "execution_count": 153,
     "metadata": {},
     "output_type": "execute_result"
    }
   ],
   "source": [
    "replace_simple(today, \"TBA Date\", page_id)"
   ]
  },
  {
   "cell_type": "code",
   "execution_count": 154,
   "metadata": {},
   "outputs": [
    {
     "name": "stdout",
     "output_type": "stream",
     "text": [
      "Found block with text: Hiring Manager\n",
      "Amica Senior Lifestyles Support Office\n",
      "16432\n",
      "Toronto, ON, Canada\n",
      "Block 10bb1542-9002-8099-a9a2-eb53beff1332 updated.\n"
     ]
    },
    {
     "data": {
      "text/plain": [
       "(True, '10bb1542-9002-8099-a9a2-eb53beff1332')"
      ]
     },
     "execution_count": 154,
     "metadata": {},
     "output_type": "execute_result"
    }
   ],
   "source": [
    "replace_simple(company_address_line_1, \"TBA Address\", page_id)"
   ]
  },
  {
   "cell_type": "code",
   "execution_count": 155,
   "metadata": {},
   "outputs": [
    {
     "name": "stdout",
     "output_type": "stream",
     "text": [
      "Updated block 9b0acf97-d6e5-4d2d-bd28-12fab599edf9 with new text.\n",
      "Updated block 9b0acf97-d6e5-4d2d-bd28-12fab599edf9 with new text.\n"
     ]
    },
    {
     "data": {
      "text/plain": [
       "True"
      ]
     },
     "execution_count": 155,
     "metadata": {},
     "output_type": "execute_result"
    }
   ],
   "source": [
    "blocks = get_page_blocks(page_id)\n",
    "\n",
    "start_text = \"Dear Hiring Manager,\"\n",
    "end_text = \"Sincerely,\"\n",
    "replacement_text = \"TBA Main Text\"\n",
    "\n",
    "replace_text_in_blocks(blocks, start_text, end_text, replacement_text)"
   ]
  },
  {
   "cell_type": "markdown",
   "metadata": {},
   "source": [
    "# Add Record"
   ]
  },
  {
   "cell_type": "code",
   "execution_count": 157,
   "metadata": {},
   "outputs": [],
   "source": [
    "# If you don't have the excel ready:\n",
    "\n",
    "# df = pd.DataFrame(\n",
    "#     columns=[\n",
    "#         'Date', 'Company_Name', 'Position_Name', 'Position_Name', 'CV_Used', 'Company_City', 'Company_State', 'Cover_Letter'\n",
    "#     ]\n",
    "# )\n",
    "# df.to_excel(f\"{root}/Application Tracker.xlsx\", index=False)"
   ]
  },
  {
   "cell_type": "code",
   "execution_count": 158,
   "metadata": {},
   "outputs": [],
   "source": [
    "df = pd.read_excel(f\"{root}/Application History.xlsx\", sheet_name=\"Sheet1\")"
   ]
  },
  {
   "cell_type": "code",
   "execution_count": 159,
   "metadata": {},
   "outputs": [],
   "source": [
    "first_sentence = extracted_text.split(\".\")[0]"
   ]
  },
  {
   "cell_type": "code",
   "execution_count": 160,
   "metadata": {},
   "outputs": [],
   "source": [
    "role_split = [\"role\", 'position', 'job', 'opening']\n",
    "role = \"\"\n",
    "\n",
    "for split_word in role_split:\n",
    "    if split_word in first_sentence.lower():\n",
    "        role_sentence = first_sentence.split(split_word)[0].strip()\n",
    "        word_pattern = r'[A-Z][a-z]+'\n",
    "        role_words = re.findall(word_pattern, role_sentence)\n",
    "        role = \" \".join(role_words)\n",
    "        break\n",
    "    \n",
    "row = {\n",
    "    'Date': today,\n",
    "    'Company Name': company_name,\n",
    "    'Position Name': role,\n",
    "    'Cover Letter': f\"Cover Letter - {my_name}.pdf\",\n",
    "    'CV Used': cv_to_use,\n",
    "    'Company City': company_city\n",
    "}"
   ]
  },
  {
   "cell_type": "code",
   "execution_count": 161,
   "metadata": {},
   "outputs": [],
   "source": [
    "row_df = pd.DataFrame([row])\n",
    "df = pd.concat([df, row_df], ignore_index=True)\n",
    "df.fillna(\"\", inplace=True)\n",
    "df.drop_duplicates(subset=df.columns, keep=\"first\", inplace=True)"
   ]
  },
  {
   "cell_type": "code",
   "execution_count": 162,
   "metadata": {},
   "outputs": [],
   "source": [
    "df.to_excel(f\"{root}/Application History.xlsx\", index=False)"
   ]
  }
 ],
 "metadata": {
  "kernelspec": {
   "display_name": "base",
   "language": "python",
   "name": "python3"
  },
  "language_info": {
   "codemirror_mode": {
    "name": "ipython",
    "version": 3
   },
   "file_extension": ".py",
   "mimetype": "text/x-python",
   "name": "python",
   "nbconvert_exporter": "python",
   "pygments_lexer": "ipython3",
   "version": "3.11.7"
  }
 },
 "nbformat": 4,
 "nbformat_minor": 2
}
